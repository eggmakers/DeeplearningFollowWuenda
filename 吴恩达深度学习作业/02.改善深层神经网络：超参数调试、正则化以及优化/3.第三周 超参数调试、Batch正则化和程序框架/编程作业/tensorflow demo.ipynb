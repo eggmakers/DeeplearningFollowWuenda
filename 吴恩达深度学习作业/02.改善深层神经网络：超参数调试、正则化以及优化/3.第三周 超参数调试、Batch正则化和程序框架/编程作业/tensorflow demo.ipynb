{
 "cells": [
  {
   "cell_type": "code",
   "execution_count": 12,
   "metadata": {
    "collapsed": true
   },
   "outputs": [],
   "source": [
    "import math\n",
    "import numpy as np\n",
    "import h5py\n",
    "import matplotlib.pyplot as plt\n",
    "import tensorflow as tf\n",
    "from tensorflow.python.framework import ops\n",
    "from tf_utils import load_dataset, random_mini_batches, convert_to_one_hot, predict\n",
    "tf.compat.v1.disable_eager_execution()\n",
    "\n",
    "%matplotlib inline\n",
    "np.random.seed(1)"
   ]
  },
  {
   "cell_type": "code",
   "execution_count": 13,
   "metadata": {},
   "outputs": [
    {
     "name": "stdout",
     "output_type": "stream",
     "text": [
      "9\n"
     ]
    }
   ],
   "source": [
    "y_hat = tf.constant(36, name=\"y_hat\")\n",
    "y = tf.constant(39, name='y')\n",
    "loss = tf.Variable((y-y_hat) ** 2, name='loss')\n",
    "\n",
    "init = tf.compat.v1.global_variables_initializer()\n",
    "with tf.compat.v1.Session() as session:\n",
    "    session.run(init)\n",
    "    print(session.run(loss))"
   ]
  },
  {
   "cell_type": "code",
   "execution_count": 14,
   "metadata": {},
   "outputs": [
    {
     "name": "stdout",
     "output_type": "stream",
     "text": [
      "90\n"
     ]
    }
   ],
   "source": [
    "a = tf.constant(3)\n",
    "b = tf.constant(30)\n",
    "c = tf.multiply(a, b)\n",
    "\n",
    "with tf.compat.v1.Session() as session:\n",
    "    session.run(init)\n",
    "    print(session.run(c))"
   ]
  },
  {
   "cell_type": "code",
   "execution_count": 15,
   "metadata": {},
   "outputs": [
    {
     "name": "stdout",
     "output_type": "stream",
     "text": [
      "dict_items([('_op', <tf.Operation 'Const_4' type=Const>), ('_value_index', 0), ('_dtype', tf.int32), ('_tf_output', <tensorflow.python.client._pywrap_tf_session.TF_Output object at 0x000002D837C83330>), ('_shape_val', None), ('_consumers', []), ('_id', 54), ('_name', None)])\n"
     ]
    }
   ],
   "source": [
    "sess = tf.compat.v1.Session()\n",
    "xx = tf.compat.v1.placeholder(tf.int32, name='any_name')\n",
    "res = sess.run(xx * 2, feed_dict={xx:30})\n",
    "print(a.__dict__.items())\n",
    "sess.close()"
   ]
  }
 ],
 "metadata": {
  "anaconda-cloud": {},
  "kernelspec": {
   "display_name": "Python 3",
   "language": "python",
   "name": "python3"
  },
  "language_info": {
   "codemirror_mode": {
    "name": "ipython",
    "version": 3
   },
   "file_extension": ".py",
   "mimetype": "text/x-python",
   "name": "python",
   "nbconvert_exporter": "python",
   "pygments_lexer": "ipython3",
   "version": "3.8.5"
  }
 },
 "nbformat": 4,
 "nbformat_minor": 1
}
